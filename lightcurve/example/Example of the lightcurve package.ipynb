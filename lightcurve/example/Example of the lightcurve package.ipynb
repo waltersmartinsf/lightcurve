{
 "cells": [
  {
   "cell_type": "code",
   "execution_count": 1,
   "metadata": {
    "collapsed": false
   },
   "outputs": [],
   "source": [
    "from lightcurve import occultation_bic\n",
    "import numpy as np\n",
    "import mpyfit\n",
    "from pandas import DataFrame\n",
    "from scipy.stats import chisquare"
   ]
  },
  {
   "cell_type": "code",
   "execution_count": 2,
   "metadata": {
    "collapsed": false
   },
   "outputs": [],
   "source": [
    "%matplotlib inline\n",
    "import matplotlib.pyplot as plt \n",
    "from matplotlib.gridspec import GridSpec\n",
    "\n",
    "def init_plotting():\n",
    "    plt.rcParams['figure.figsize'] = (14.0,8.0)\n",
    "    plt.rcParams['font.size'] = 20\n",
    "    #plt.rcParams['font.family'] = 'Times New Roman'\n",
    "    plt.rcParams['axes.labelsize'] = plt.rcParams['font.size']\n",
    "    plt.rcParams['axes.titlesize'] = 0.75*plt.rcParams['font.size']\n",
    "    plt.rcParams['legend.fontsize'] = 0.65*plt.rcParams['font.size']\n",
    "    plt.rcParams['xtick.labelsize'] = plt.rcParams['font.size']\n",
    "    plt.rcParams['ytick.labelsize'] = plt.rcParams['font.size']\n",
    "    plt.rcParams['xtick.major.size'] = 3\n",
    "    plt.rcParams['xtick.minor.size'] = 3\n",
    "    plt.rcParams['xtick.major.width'] = 1\n",
    "    plt.rcParams['xtick.minor.width'] = 1\n",
    "    plt.rcParams['ytick.major.size'] = 3\n",
    "    plt.rcParams['ytick.minor.size'] = 3\n",
    "    plt.rcParams['ytick.major.width'] = 1\n",
    "    plt.rcParams['ytick.minor.width'] = 1\n",
    "    plt.rcParams['legend.frameon'] = True\n",
    "    plt.rcParams['legend.loc'] = 'best'\n",
    "    plt.rcParams['axes.linewidth'] = 1\n",
    "\n",
    "init_plotting()"
   ]
  },
  {
   "cell_type": "code",
   "execution_count": 3,
   "metadata": {
    "collapsed": false
   },
   "outputs": [
    {
     "name": "stdout",
     "output_type": "stream",
     "text": [
      "\u001b[0m\u001b[01;34mAllflux\u001b[0m/                                 \u001b[01;35mraw_data.png\u001b[0m  sysparams.txt\r\n",
      "Example of the lightcurve package.ipynb  \u001b[01;34mResults\u001b[0m/\r\n"
     ]
    }
   ],
   "source": [
    "ls"
   ]
  },
  {
   "cell_type": "code",
   "execution_count": 4,
   "metadata": {
    "collapsed": false
   },
   "outputs": [],
   "source": [
    "a_Rs, Rp_Rs, radstar, i, a, e, omega, epoch, period, limbB1, limbB2 = occultation_bic.sysparams('./sysparams.txt')"
   ]
  },
  {
   "cell_type": "code",
   "execution_count": 5,
   "metadata": {
    "collapsed": false
   },
   "outputs": [
    {
     "name": "stdout",
     "output_type": "stream",
     "text": [
      "a_Rs = 7.986\n",
      "Rp_Rs = 0.10304\n",
      "radstar = 0.99\n",
      "i = 88.01\n",
      "a = 0.0368\n",
      "e = 0.0\n",
      "omega = 0.0\n",
      "epoch = 2454508.73829\n",
      "period = 2.61586178\n",
      "limbB1 = 0.81461289\n",
      "limbB2 = 0.02619382\n"
     ]
    }
   ],
   "source": [
    "print 'a_Rs =',a_Rs\n",
    "print 'Rp_Rs =',Rp_Rs\n",
    "print 'radstar =',radstar\n",
    "print 'i =',i\n",
    "print 'a =',a\n",
    "print 'e =',e\n",
    "print 'omega =',omega\n",
    "print 'epoch =',epoch\n",
    "print 'period =',period\n",
    "print 'limbB1 =',limbB1\n",
    "print 'limbB2 =',limbB2"
   ]
  },
  {
   "cell_type": "code",
   "execution_count": 6,
   "metadata": {
    "collapsed": false
   },
   "outputs": [],
   "source": [
    "#Change for the rigth units\n",
    "inc = np.radians(i) #inclination in radians\n",
    "semimajoraxis = a\n",
    "semimajoraxis = semimajoraxis *1.49598e13 # convert semi-major axis (a) from AU to m\n",
    "radstar = radstar * 6.955e10 # convert stellar radius from Solar Radii to m\n",
    "radplanet = radstar * Rp_Rs #calculate planetary radius in m based on Rp/Rs and stellar radius"
   ]
  },
  {
   "cell_type": "code",
   "execution_count": 7,
   "metadata": {
    "collapsed": false
   },
   "outputs": [
    {
     "data": {
      "text/plain": [
       "u'/home/walter/MEGA/work/codes/MYpackages/lightcurve/lightcurve/example'"
      ]
     },
     "execution_count": 7,
     "metadata": {},
     "output_type": "execute_result"
    }
   ],
   "source": [
    "pwd"
   ]
  },
  {
   "cell_type": "code",
   "execution_count": 8,
   "metadata": {
    "collapsed": true
   },
   "outputs": [],
   "source": [
    "#set the correct paths, change this for run correctly \n",
    "#where is the allflux* and the error_allflux* files\n",
    "path = '/home/walter/MEGA/work/codes/MYpackages/lightcurve/lightcurve/example/Allflux/' \n",
    "hjd_path = '/home/walter/MEGA/work/codes/MYpackages/lightcurve/lightcurve/example/Results/hjd'\n",
    "airmass_path='/home/walter/MEGA/work/codes/MYpackages/lightcurve/lightcurve/example/Results/XYpos+Airmass.txt'"
   ]
  },
  {
   "cell_type": "code",
   "execution_count": 9,
   "metadata": {
    "collapsed": false
   },
   "outputs": [
    {
     "name": "stdout",
     "output_type": "stream",
     "text": [
      "Total of files =  70\n",
      "Percent: [##########] 100% Done...\n",
      "The smallest scatter is: 27808.2230678\n",
      "Which is file: allflux13.9\n",
      "Working @allflux13.9 that is the min scatter\n",
      "... Read allflux13.9 ...\n",
      "... done.\n",
      "... Read error_allfluxerr13.9 ...\n",
      "... done\n"
     ]
    }
   ],
   "source": [
    "hjd, rawflux, eflux, am = occultation_bic.read_files(path,hjd_path,airmass_path)"
   ]
  },
  {
   "cell_type": "code",
   "execution_count": 10,
   "metadata": {
    "collapsed": false
   },
   "outputs": [
    {
     "data": {
      "image/png": "[encoded data removed]",
      "text/plain": [
       "<matplotlib.figure.Figure at 0x7ff59afc7210>"
      ]
     },
     "metadata": {},
     "output_type": "display_data"
    }
   ],
   "source": [
    "f = plt.figure()\n",
    "plt.suptitle(\"xo2b - rawdata\")\n",
    "gs1 = GridSpec(2, 2, width_ratios=[1,2],height_ratios=[4,1])\n",
    "gs1.update(wspace=0.5)\n",
    "ax1 = plt.subplot(gs1[:-1, :])\n",
    "ax2 = plt.subplot(gs1[-1, :])\n",
    "ax1.grid()\n",
    "ax1.errorbar(hjd,rawflux,yerr=eflux,ecolor='g')\n",
    "ax1.set_xticklabels([])\n",
    "ax1.set_ylabel('Relative Flux')\n",
    "ax2.grid()\n",
    "ax2.plot(hjd,am,color='green')\n",
    "plt.yticks(np.array([am.min(), (am.min()+am.max())/2., am.max()]))\n",
    "ax2.set_xlabel('JD')\n",
    "ax2.set_ylabel('airmass')\n",
    "plt.savefig('../raw_data.png')"
   ]
  },
  {
   "cell_type": "code",
   "execution_count": 16,
   "metadata": {
    "collapsed": true
   },
   "outputs": [],
   "source": [
    "def simple_model(JD, period, inc, a_Rs, limbB1, limbB2,startpar0, startpar1):\n",
    "    phase = (JD - startpar1)/period\n",
    "    distance_vector = delta(phase,inc) * a_Rs\n",
    "    #model = occultation_fn(distance_vector,startpar0,limbB1,limbB2,show=False)\n",
    "    model = occultquad(distance_vector, limbB1, limbB2, startpar0, len(JD))\n",
    "\n",
    "    return model\n",
    "\n",
    "def model_am_exp(hjd, period, inc, a_Rs, limbB1, limbB2,startpar0,startpar1,startpar2,startpar3):\n",
    "    model = simple_model(hjd, period, inc, a_Rs, limbB1, limbB2,startpar0, startpar1)\n",
    "    model_am = model * startpar2 * np.exp(-1. * startpar3 * am) #multiply light curve by factor x exponential\n",
    "    return model_am\n",
    "\n",
    "def residuals_am_exp(params,args): #residuals function for mpfit\n",
    "    RpRs = params[0]\n",
    "    Tc = params[1]\n",
    "    mu1 = params[2]\n",
    "    mu2 = params[3]\n",
    "    hjd, data, eps_data, period, inc, a_Rs, limbB1, limbB2 = args\n",
    "    model = model_am_exp(hjd, period, inc, a_Rs, limbB1, limbB2, RpRs,Tc,mu1,mu2)\n",
    "    return (data-model)/eps_data\n",
    "\n",
    "def model_am_linear(hjd, period, inc, a_Rs, limbB1, limbB2,startpar0,startpar1,startpar2,startpar3):\n",
    "    model = simple_model(hjd, period, inc, a_Rs, limbB1, limbB2,startpar0, startpar1)\n",
    "    model_am = model * (startpar2 * am + startpar3) #multiply light curve by factor x exponential\n",
    "    return model_am\n",
    "\n",
    "def residuals_linear(params,args): #residuals function for mpfit\n",
    "    RpRs = params[0]\n",
    "    Tc = params[1]\n",
    "    mu1 = params[2]\n",
    "    mu2 = params[3]\n",
    "    hjd, data, eps_data, period, inc, a_Rs, limbB1, limbB2 = args\n",
    "    model = model_am_linear(hjd, period, inc, a_Rs, limbB1, limbB2,RpRs,Tc,mu1,mu2)\n",
    "    return (data-model)/eps_data\n",
    "\n",
    "def model_am_2deg(hjd, period, inc, a_Rs, limbB1, limbB2,startpar0,startpar1,startpar2,startpar3,startpar4):\n",
    "    model = simple_model(hjd, period, inc, a_Rs, limbB1, limbB2,startpar0, startpar1)\n",
    "    model_am = model * (startpar2 + startpar3*am + startpar4*am) #multiply light curve by factor x exponential\n",
    "    return model_am\n",
    "\n",
    "def residuals_2deg_mpfit(params,args): #residuals function for mpfit\n",
    "    RpRs = params[0]\n",
    "    Tc = params[1]\n",
    "    mu1 = params[2]\n",
    "    mu2 = params[3]\n",
    "    mu3 = params[4]\n",
    "    hjd, data, eps_data, period, inc, a_Rs, limbB1, limbB2 = args\n",
    "    model = model_am_2deg(hjd, period, inc, a_Rs, limbB1, limbB2,RpRs,Tc,mu1,mu2,mu3)\n",
    "    return (data-model)/eps_data\n",
    "\n",
    "def BIC(nfree,bestnorm, nflux):\n",
    "    \"\"\"\n",
    "    Obtain the BIC value for the model.\n",
    "    ___\n",
    "    INPUT:\n",
    "    nfre : number of free parameters\n",
    "    bestnorm:\n",
    "    nflux: number of points in the data\n",
    "\n",
    "\n",
    "    OUTPUT:\n",
    "    BIC: BIC number\n",
    "    \"\"\"\n",
    "    if isinstance(nfree,(float,int)) == True:\n",
    "        bic = nfree * np.log(nflux) + bestnorm\n",
    "    else:\n",
    "        bic = np.zeros(len(nfree))\n",
    "        for i in range(len(nfree)):\n",
    "            bic[i] = nfree[i] * np.log(nflux) + bestnorm[i]\n",
    "    return bic"
   ]
  },
  {
   "cell_type": "code",
   "execution_count": 17,
   "metadata": {
    "collapsed": true
   },
   "outputs": [],
   "source": [
    "def model_airmassfit(hjd, am, rawflux, eflux, limbB1, limbB2, inc, period, a_Rs,Rp_Rs, show=False):\n",
    "    \"\"\"\n",
    "    Return the bestfit model for the lightcurve using 4 models of airmass correction:\n",
    "    1. model with no airmass correction\n",
    "    2. model with exponential airmass correction\n",
    "    3. model with linear airmass correction\n",
    "    4, model with 2deg polynomial airmass correction\n",
    "    ___\n",
    "    INPUT:\n",
    "\n",
    "    hjd:\n",
    "    am:\n",
    "    rawflux:\n",
    "    eflux:\n",
    "    limbB1:\n",
    "    limbB2:\n",
    "    inc:\n",
    "    period:\n",
    "    a_Rs:\n",
    "    startpar:\n",
    "\n",
    "    OUTPUT:\n",
    "    result: dataframe structure with besfit values for each model, the errors and BIC values.\n",
    "    phase: from the bestfit model\n",
    "    lc: lightcurve from the bestfit model\n",
    "    \"\"\"\n",
    "    # Model 1: no airmass correction\n",
    "    startpar = [Rp_Rs, np.mean(hjd), 1., 0.]\n",
    "    PARINFO = [{'value':Rp_Rs,'limits':(0,1.)}, {'value':np.mean(hjd)}, {'value':1.}, {'value':0.,'fixed':True}]\n",
    "    pfit1, results1 = mpyfit.fit(residuals_am_exp, startpar, args = (hjd, rawflux, eflux, period, inc, a_Rs, limbB1, limbB2), parinfo=PARINFO)\n",
    "    model1 = model_am_exp(hjd, period, inc, a_Rs, limbB1, limbB2,pfit1[0],pfit1[1],pfit1[2],pfit1[3])\n",
    "    phase1 = (hjd - pfit1[1])/period\n",
    "    if show == True:\n",
    "        print '...'\n",
    "        print 'Model 1: no airmass correction'\n",
    "        print 'bestfit values = ',pfit1\n",
    "        print 'error = ', results1['parerrors']\n",
    "        print 'bestnorm1 = ', results1['bestnorm']\n",
    "        print 'chi-square, scipy routine = ',chisquare(rawflux, model1)\n",
    "    #Model 2: exponential airmass correction\n",
    "    PARINFO = [{'value':Rp_Rs,'limits':(0,1.)}, {'value':np.mean(hjd)}, {'value':1.}, {'value':0.,'fixed':False}]\n",
    "    pfit2, results2 = mpyfit.fit(residuals_am_exp, startpar, args = (hjd, rawflux, eflux, period, inc, a_Rs, limbB1, limbB2), parinfo=PARINFO)\n",
    "    model2 = model_am_exp(hjd, period, inc, a_Rs, limbB1, limbB2,pfit2[0],pfit2[1],pfit2[2],pfit2[3])\n",
    "    phase2 = (hjd - pfit2[1])/period\n",
    "    if show == True:\n",
    "        print '...'\n",
    "        print 'Model 2: exponential airmass correction'\n",
    "        print 'bestfit values = ',pfit2\n",
    "        print 'error = ', results2['parerrors']\n",
    "        print 'bestnorm1 = ', results2['bestnorm']\n",
    "        print 'chi-square, scipy routine = ',chisquare(rawflux, model2)\n",
    "    #Model 3: linear airmass correction\n",
    "    PARINFO = [{'value':Rp_Rs,'limits':(0,1.)},{'value':np.mean(hjd)},{'value':1.}, {'value':0.,'fixed':False}]\n",
    "    pfit3, results3 = mpyfit.fit(residuals_linear, startpar, args = (hjd, rawflux, eflux, period, inc, a_Rs, limbB1, limbB2), parinfo=PARINFO)\n",
    "    model3 = model_am_linear(hjd, period, inc, a_Rs, limbB1, limbB2,pfit3[0],pfit3[1],pfit3[2],pfit3[3])\n",
    "    phase3 = (hjd - pfit3[1])/period\n",
    "    if show == True:\n",
    "        print '...'\n",
    "        print 'Model 3: linear airmass correction'\n",
    "        print 'bestfit values = ',pfit3\n",
    "        print 'error = ', results3['parerrors']\n",
    "        print 'bestnorm1 = ', results3['bestnorm']\n",
    "        print 'chi-square, scipy routine = ',chisquare(rawflux, model3)\n",
    "    #Model 4: 2deg polynomial airmss correction\n",
    "    PARINFO = [{'value':Rp_Rs,'limits':(0,1.)},{'value':np.mean(hjd)},{'value':1.},{'value':0.},{'value':0.}]\n",
    "    pstart = [Rp_Rs,np.mean(hjd),1.,0.,0.]\n",
    "    pfit4, results4 = mpyfit.fit(residuals_2deg_mpfit, pstart, args = (hjd, rawflux, eflux, period, inc, a_Rs, limbB1, limbB2), parinfo=PARINFO)\n",
    "    model4 = model_am_2deg(hjd, period, inc, a_Rs, limbB1, limbB2,pfit4[0],pfit4[1],pfit4[2],pfit4[3],pfit4[4])\n",
    "    phase4 = (hjd - pfit4[1])/period\n",
    "    if show == True:\n",
    "        print '...'\n",
    "        print 'Model 4: 2deg poly airmass correction'\n",
    "        print 'bestfit values = ',pfit4\n",
    "        print 'error = ', results4['parerrors']\n",
    "        print 'bestnorm1 = ', results4['bestnorm']\n",
    "        print 'chi-square, scipy routine = ',chisquare(rawflux, model4)\n",
    "    #Obtain BIC values:\n",
    "    #Let's create our fit file and our best BIC\n",
    "    BICarray = ['none', 'exponential', 'linear','2nd_deg_poly']\n",
    "    nfree = [3,4,4,5]\n",
    "    bestnorm = [results1['bestnorm'],results2['bestnorm'],results3['bestnorm'],results4['bestnorm']]\n",
    "    bic = BIC(nfree,bestnorm,len(rawflux))\n",
    "    RpRs = [pfit1[0], pfit2[0], pfit3[0], pfit4[0]]\n",
    "    Tc   = [pfit1[1], pfit2[1], pfit3[1], pfit4[1]]\n",
    "    a    = [pfit1[2], pfit2[2], pfit3[2], pfit4[2]]\n",
    "    b    = [pfit1[3], pfit2[3], pfit3[3], pfit4[3]]\n",
    "    c    = ['Nan','Nan','Nan',pfit4[4]]\n",
    "    error1 = [results1['parerrors'][0], results2['parerrors'][0], results3['parerrors'][0], results4['parerrors'][0]]\n",
    "    error2 = [results1['parerrors'][1], results2['parerrors'][1], results3['parerrors'][1], results4['parerrors'][1]]\n",
    "    error3 = [results1['parerrors'][2], results2['parerrors'][2], results3['parerrors'][2], results4['parerrors'][2]]\n",
    "    error4 = [results1['parerrors'][3], results2['parerrors'][3], results3['parerrors'][3], results4['parerrors'][3]]\n",
    "    error5 = ['Nan','Nan','Nan', results4['parerrors'][0]]\n",
    "    result = DataFrame([BICarray,list(bic),RpRs,error1,Tc,error2,a,error3,b,error4,c,error5]).T\n",
    "    result.columns=['Model','BIC','RpRs','eRpRs','Tc','eTc','a','ea','b','eb','c','ec']\n",
    "    if show == True:\n",
    "        print '... Results:'\n",
    "        print result\n",
    "        print 'The best model is: ',result.Model[result.BIC == result.BIC.min()]\n",
    "        print 'with the BIC = ',result.BIC.min()\n",
    "    #Saving the bestfit transit image:\n",
    "    bestfit = np.where(result.BIC == result.BIC.min())\n",
    "    indx = bestfit[0][0]\n",
    "    if indx == 0:\n",
    "        lc = model1\n",
    "        phase = phase1\n",
    "    if indx == 1:\n",
    "        lc = model2\n",
    "        phase = phase2\n",
    "    if indx == 2:\n",
    "        lc = model3\n",
    "        phase = phase3\n",
    "    if indx == 3:\n",
    "        lc = model4\n",
    "        phase = phase4\n",
    "    return result, phase, lc"
   ]
  },
  {
   "cell_type": "code",
   "execution_count": 20,
   "metadata": {
    "collapsed": false
   },
   "outputs": [
    {
     "ename": "TypeError",
     "evalue": "error calling function",
     "output_type": "error",
     "traceback": [
      "\u001b[1;31m---------------------------------------------------------------------------\u001b[0m",
      "\u001b[1;31mTypeError\u001b[0m                                 Traceback (most recent call last)",
      "\u001b[1;32m<ipython-input-20-0ef369ba39bd>\u001b[0m in \u001b[0;36m<module>\u001b[1;34m()\u001b[0m\n\u001b[1;32m----> 1\u001b[1;33m \u001b[0mmodel_airmassfit\u001b[0m\u001b[1;33m(\u001b[0m\u001b[0mhjd\u001b[0m\u001b[1;33m,\u001b[0m \u001b[0mam\u001b[0m\u001b[1;33m,\u001b[0m \u001b[0mrawflux\u001b[0m\u001b[1;33m,\u001b[0m \u001b[0meflux\u001b[0m\u001b[1;33m,\u001b[0m \u001b[0mlimbB1\u001b[0m\u001b[1;33m,\u001b[0m \u001b[0mlimbB2\u001b[0m\u001b[1;33m,\u001b[0m \u001b[0minc\u001b[0m\u001b[1;33m,\u001b[0m \u001b[0mperiod\u001b[0m\u001b[1;33m,\u001b[0m \u001b[0ma_Rs\u001b[0m\u001b[1;33m,\u001b[0m \u001b[0mRp_Rs\u001b[0m\u001b[1;33m)\u001b[0m\u001b[1;33m\u001b[0m\u001b[0m\n\u001b[0m",
      "\u001b[1;32m<ipython-input-17-ec37149c9ab2>\u001b[0m in \u001b[0;36mmodel_airmassfit\u001b[1;34m(hjd, am, rawflux, eflux, limbB1, limbB2, inc, period, a_Rs, Rp_Rs, show)\u001b[0m\n\u001b[0;32m     28\u001b[0m     \u001b[0mstartpar\u001b[0m \u001b[1;33m=\u001b[0m \u001b[1;33m[\u001b[0m\u001b[0mRp_Rs\u001b[0m\u001b[1;33m,\u001b[0m \u001b[0mnp\u001b[0m\u001b[1;33m.\u001b[0m\u001b[0mmean\u001b[0m\u001b[1;33m(\u001b[0m\u001b[0mhjd\u001b[0m\u001b[1;33m)\u001b[0m\u001b[1;33m,\u001b[0m \u001b[1;36m1.\u001b[0m\u001b[1;33m,\u001b[0m \u001b[1;36m0.\u001b[0m\u001b[1;33m]\u001b[0m\u001b[1;33m\u001b[0m\u001b[0m\n\u001b[0;32m     29\u001b[0m     \u001b[0mPARINFO\u001b[0m \u001b[1;33m=\u001b[0m \u001b[1;33m[\u001b[0m\u001b[1;33m{\u001b[0m\u001b[1;34m'value'\u001b[0m\u001b[1;33m:\u001b[0m\u001b[0mRp_Rs\u001b[0m\u001b[1;33m,\u001b[0m\u001b[1;34m'limits'\u001b[0m\u001b[1;33m:\u001b[0m\u001b[1;33m(\u001b[0m\u001b[1;36m0\u001b[0m\u001b[1;33m,\u001b[0m\u001b[1;36m1.\u001b[0m\u001b[1;33m)\u001b[0m\u001b[1;33m}\u001b[0m\u001b[1;33m,\u001b[0m \u001b[1;33m{\u001b[0m\u001b[1;34m'value'\u001b[0m\u001b[1;33m:\u001b[0m\u001b[0mnp\u001b[0m\u001b[1;33m.\u001b[0m\u001b[0mmean\u001b[0m\u001b[1;33m(\u001b[0m\u001b[0mhjd\u001b[0m\u001b[1;33m)\u001b[0m\u001b[1;33m}\u001b[0m\u001b[1;33m,\u001b[0m \u001b[1;33m{\u001b[0m\u001b[1;34m'value'\u001b[0m\u001b[1;33m:\u001b[0m\u001b[1;36m1.\u001b[0m\u001b[1;33m}\u001b[0m\u001b[1;33m,\u001b[0m \u001b[1;33m{\u001b[0m\u001b[1;34m'value'\u001b[0m\u001b[1;33m:\u001b[0m\u001b[1;36m0.\u001b[0m\u001b[1;33m,\u001b[0m\u001b[1;34m'fixed'\u001b[0m\u001b[1;33m:\u001b[0m\u001b[0mTrue\u001b[0m\u001b[1;33m}\u001b[0m\u001b[1;33m]\u001b[0m\u001b[1;33m\u001b[0m\u001b[0m\n\u001b[1;32m---> 30\u001b[1;33m     \u001b[0mpfit1\u001b[0m\u001b[1;33m,\u001b[0m \u001b[0mresults1\u001b[0m \u001b[1;33m=\u001b[0m \u001b[0mmpyfit\u001b[0m\u001b[1;33m.\u001b[0m\u001b[0mfit\u001b[0m\u001b[1;33m(\u001b[0m\u001b[0mresiduals_am_exp\u001b[0m\u001b[1;33m,\u001b[0m \u001b[0mstartpar\u001b[0m\u001b[1;33m,\u001b[0m \u001b[0margs\u001b[0m \u001b[1;33m=\u001b[0m \u001b[1;33m(\u001b[0m\u001b[0mhjd\u001b[0m\u001b[1;33m,\u001b[0m \u001b[0mrawflux\u001b[0m\u001b[1;33m,\u001b[0m \u001b[0meflux\u001b[0m\u001b[1;33m,\u001b[0m \u001b[0mperiod\u001b[0m\u001b[1;33m,\u001b[0m \u001b[0minc\u001b[0m\u001b[1;33m,\u001b[0m \u001b[0ma_Rs\u001b[0m\u001b[1;33m,\u001b[0m \u001b[0mlimbB1\u001b[0m\u001b[1;33m,\u001b[0m \u001b[0mlimbB2\u001b[0m\u001b[1;33m)\u001b[0m\u001b[1;33m,\u001b[0m \u001b[0mparinfo\u001b[0m\u001b[1;33m=\u001b[0m\u001b[0mPARINFO\u001b[0m\u001b[1;33m)\u001b[0m\u001b[1;33m\u001b[0m\u001b[0m\n\u001b[0m\u001b[0;32m     31\u001b[0m     \u001b[0mmodel1\u001b[0m \u001b[1;33m=\u001b[0m \u001b[0mmodel_am_exp\u001b[0m\u001b[1;33m(\u001b[0m\u001b[0mhjd\u001b[0m\u001b[1;33m,\u001b[0m \u001b[0mperiod\u001b[0m\u001b[1;33m,\u001b[0m \u001b[0minc\u001b[0m\u001b[1;33m,\u001b[0m \u001b[0ma_Rs\u001b[0m\u001b[1;33m,\u001b[0m \u001b[0mlimbB1\u001b[0m\u001b[1;33m,\u001b[0m \u001b[0mlimbB2\u001b[0m\u001b[1;33m,\u001b[0m\u001b[0mpfit1\u001b[0m\u001b[1;33m[\u001b[0m\u001b[1;36m0\u001b[0m\u001b[1;33m]\u001b[0m\u001b[1;33m,\u001b[0m\u001b[0mpfit1\u001b[0m\u001b[1;33m[\u001b[0m\u001b[1;36m1\u001b[0m\u001b[1;33m]\u001b[0m\u001b[1;33m,\u001b[0m\u001b[0mpfit1\u001b[0m\u001b[1;33m[\u001b[0m\u001b[1;36m2\u001b[0m\u001b[1;33m]\u001b[0m\u001b[1;33m,\u001b[0m\u001b[0mpfit1\u001b[0m\u001b[1;33m[\u001b[0m\u001b[1;36m3\u001b[0m\u001b[1;33m]\u001b[0m\u001b[1;33m)\u001b[0m\u001b[1;33m\u001b[0m\u001b[0m\n\u001b[0;32m     32\u001b[0m     \u001b[0mphase1\u001b[0m \u001b[1;33m=\u001b[0m \u001b[1;33m(\u001b[0m\u001b[0mhjd\u001b[0m \u001b[1;33m-\u001b[0m \u001b[0mpfit1\u001b[0m\u001b[1;33m[\u001b[0m\u001b[1;36m1\u001b[0m\u001b[1;33m]\u001b[0m\u001b[1;33m)\u001b[0m\u001b[1;33m/\u001b[0m\u001b[0mperiod\u001b[0m\u001b[1;33m\u001b[0m\u001b[0m\n",
      "\u001b[1;32m/home/walter/Programas/anaconda/lib/python2.7/site-packages/mpyfit-0.9.0-py2.7-linux-x86_64.egg/mpyfit/__init__.pyc\u001b[0m in \u001b[0;36mfit\u001b[1;34m(function, p, args, parinfo, ftol, xtol, gtol, epsfcn, stepfactor, covtol, maxiter, maxfev)\u001b[0m\n\u001b[0;32m    181\u001b[0m         \u001b[0mfunction\u001b[0m\u001b[1;33m,\u001b[0m \u001b[0mnumpy\u001b[0m\u001b[1;33m.\u001b[0m\u001b[0masarray\u001b[0m\u001b[1;33m(\u001b[0m\u001b[0mp\u001b[0m\u001b[1;33m)\u001b[0m\u001b[1;33m,\u001b[0m \u001b[0margs\u001b[0m\u001b[1;33m=\u001b[0m\u001b[0margs\u001b[0m\u001b[1;33m,\u001b[0m \u001b[0mparinfo\u001b[0m\u001b[1;33m=\u001b[0m\u001b[0mparinfo\u001b[0m\u001b[1;33m,\u001b[0m \u001b[0mftol\u001b[0m\u001b[1;33m=\u001b[0m\u001b[0mftol\u001b[0m\u001b[1;33m,\u001b[0m\u001b[1;33m\u001b[0m\u001b[0m\n\u001b[0;32m    182\u001b[0m         \u001b[0mxtol\u001b[0m\u001b[1;33m=\u001b[0m\u001b[0mxtol\u001b[0m\u001b[1;33m,\u001b[0m \u001b[0mgtol\u001b[0m\u001b[1;33m=\u001b[0m\u001b[0mgtol\u001b[0m\u001b[1;33m,\u001b[0m \u001b[0mepsfcn\u001b[0m\u001b[1;33m=\u001b[0m\u001b[0mepsfcn\u001b[0m\u001b[1;33m,\u001b[0m \u001b[0mstepfactor\u001b[0m\u001b[1;33m=\u001b[0m\u001b[0mstepfactor\u001b[0m\u001b[1;33m,\u001b[0m\u001b[1;33m\u001b[0m\u001b[0m\n\u001b[1;32m--> 183\u001b[1;33m         covtol=covtol, maxiter=maxiter, maxfev=maxfev)\n\u001b[0m\u001b[0;32m    184\u001b[0m     status = {\n\u001b[0;32m    185\u001b[0m         \u001b[1;36m1\u001b[0m\u001b[1;33m:\u001b[0m \u001b[1;34m'Convergence in chi-squared value'\u001b[0m\u001b[1;33m,\u001b[0m\u001b[1;33m\u001b[0m\u001b[0m\n",
      "\u001b[1;31mTypeError\u001b[0m: error calling function"
     ]
    }
   ],
   "source": [
    "model_airmassfit(hjd, am, rawflux, eflux, limbB1, limbB2, inc, period, a_Rs, Rp_Rs)"
   ]
  },
  {
   "cell_type": "code",
   "execution_count": 15,
   "metadata": {
    "collapsed": true
   },
   "outputs": [],
   "source": [
    "occultation_bic.residuals_am_exp?"
   ]
  },
  {
   "cell_type": "code",
   "execution_count": null,
   "metadata": {
    "collapsed": true
   },
   "outputs": [],
   "source": []
  }
 ],
 "metadata": {
  "kernelspec": {
   "display_name": "Python 2",
   "language": "python",
   "name": "python2"
  },
  "language_info": {
   "codemirror_mode": {
    "name": "ipython",
    "version": 2
   },
   "file_extension": ".py",
   "mimetype": "text/x-python",
   "name": "python",
   "nbconvert_exporter": "python",
   "pygments_lexer": "ipython2",
   "version": "2.7.10"
  }
 },
 "nbformat": 4,
 "nbformat_minor": 0
}
